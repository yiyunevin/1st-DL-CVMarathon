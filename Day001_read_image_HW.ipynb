{
 "cells": [
  {
   "cell_type": "markdown",
   "metadata": {},
   "source": [
    "# 作業\n",
    "\n",
    "思考一下我們前面有提到圖片是矩陣，但維度可能會不一樣\n",
    "例如灰階圖只有兩個維度，RGB 彩圖則有 3 個維度\n",
    "\n",
    "假如今天我們把 RGB 3 個維度拆開來看會有甚麼不同的效果呢？"
   ]
  },
  {
   "cell_type": "markdown",
   "metadata": {},
   "source": [
    "### 安裝opencv-python\n",
    "\n",
    "+ **使用terminal安裝**\n",
    "<br><br>\n",
    "    ```pip install --user opencv-python```\n",
    "<br><br>\n",
    "[註]加上 user 的參參數項代表我們希望把 OpenCV 安裝在 local 環境，這樣可以避免管理理者權限的相關問題"
   ]
  },
  {
   "cell_type": "markdown",
   "metadata": {},
   "source": [
    "## 1 以彩色圖片的方式載入"
   ]
  },
  {
   "cell_type": "code",
   "execution_count": 22,
   "metadata": {},
   "outputs": [],
   "source": [
    "import cv2\n",
    "\n",
    "# 讀取圖片\n",
    "# img = cv2.imread('lena.png')\n",
    "\n",
    "# 以彩色圖片的方式載入\n",
    "img = cv2.imread('lena.png', cv2.IMREAD_COLOR)\n",
    "\n",
    "# 讀入圖片格式：numpy\n",
    "# type(img)\n",
    "\n",
    "# 顯示彩圖\n",
    "# ('視窗名稱', 顯示對象)\n",
    "cv2.imshow('rgb', img)\n",
    "\n",
    "# 顯示圖片後按任意鍵關閉視窗\n",
    "cv2.waitKey(0)\n",
    "cv2.destroyAllWindows()"
   ]
  },
  {
   "cell_type": "markdown",
   "metadata": {},
   "source": [
    "## 2 以灰階圖片的方式載入"
   ]
  },
  {
   "cell_type": "code",
   "execution_count": 23,
   "metadata": {},
   "outputs": [],
   "source": [
    "# 以灰階圖片的方式載入\n",
    "img_gray = cv2.imread('lena.png', cv2.IMREAD_GRAYSCALE)\n",
    "\n",
    "# 讀入圖片格式：numpy\n",
    "# type(img)\n",
    "\n",
    "# 顯示彩圖\n",
    "\n",
    "cv2.imshow('grayscale', img_gray)\n",
    "\n",
    "# 顯示圖片後按 Esc 鍵關閉視窗\n",
    "cv2.waitKey(0)\n",
    "cv2.destroyAllWindows()"
   ]
  },
  {
   "cell_type": "markdown",
   "metadata": {},
   "source": [
    "## 註 範例顯示方式\n",
    "+ 直到按下Esc鍵為止不斷顯示\n",
    "+ 用滑鼠游標點擊 *'grayscale'* 視窗右上角「X」就知道是什麼意思了"
   ]
  },
  {
   "cell_type": "code",
   "execution_count": 25,
   "metadata": {},
   "outputs": [],
   "source": [
    "while True:\n",
    "    # 顯示彩圖\n",
    "    cv2.imshow('bgr', img)\n",
    "    # 顯示灰圖\n",
    "    cv2.imshow('gray', img_gray)\n",
    "\n",
    "    # 直到按下 ESC 鍵才會自動關閉視窗結束程式\n",
    "    k = cv2.waitKey(0)\n",
    "    if k == 27: # Esc見代碼\n",
    "        cv2.destroyAllWindows()\n",
    "        break"
   ]
  }
 ],
 "metadata": {
  "kernelspec": {
   "display_name": "Python 3",
   "language": "python",
   "name": "python3"
  },
  "language_info": {
   "codemirror_mode": {
    "name": "ipython",
    "version": 3
   },
   "file_extension": ".py",
   "mimetype": "text/x-python",
   "name": "python",
   "nbconvert_exporter": "python",
   "pygments_lexer": "ipython3",
   "version": "3.7.4"
  }
 },
 "nbformat": 4,
 "nbformat_minor": 2
}
