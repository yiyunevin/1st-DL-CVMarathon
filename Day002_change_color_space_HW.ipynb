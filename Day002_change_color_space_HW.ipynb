{
 "cells": [
  {
   "cell_type": "markdown",
   "metadata": {},
   "source": [
    "# 作業\n",
    "\n",
    "使用 [Lena](http://optipng.sourceforge.net/pngtech/img/lena.png)\n",
    "\n",
    "- 改變圖片的 color space (`HLS`, `LAB`) 並呈現"
   ]
  },
  {
   "cell_type": "code",
   "execution_count": 3,
   "metadata": {},
   "outputs": [],
   "source": [
    "import cv2\n",
    "\n",
    "# 讀檔（默認 BGR）\n",
    "img = cv2.imread('lena.png')\n",
    "\n",
    "# BGR to HSV\n",
    "img_hsv = cv2.cvtColor(img, cv2.COLOR_BGR2HSV)\n",
    "\n",
    "# BGR to HSL\n",
    "img_hsl = cv2.cvtColor(img, cv2.COLOR_BGR2HLS)\n",
    "\n",
    "# BGR to LAB\n",
    "img_lab = cv2.cvtColor(img, cv2.COLOR_BGR2LAB)\n",
    "\n",
    "# 輸出結果\n",
    "cv2.imshow('RGB', img)\n",
    "cv2.imshow('HSV', img_hsv)\n",
    "cv2.imshow('HSL', img_hsl)\n",
    "cv2.imshow('LAB', img_lab)\n",
    "\n",
    "# 按下任意鍵結束\n",
    "cv2.waitKey(0)\n",
    "cv2.destroyAllWindows()"
   ]
  }
 ],
 "metadata": {
  "kernelspec": {
   "display_name": "Python 3",
   "language": "python",
   "name": "python3"
  },
  "language_info": {
   "codemirror_mode": {
    "name": "ipython",
    "version": 3
   },
   "file_extension": ".py",
   "mimetype": "text/x-python",
   "name": "python",
   "nbconvert_exporter": "python",
   "pygments_lexer": "ipython3",
   "version": "3.7.4"
  }
 },
 "nbformat": 4,
 "nbformat_minor": 2
}
